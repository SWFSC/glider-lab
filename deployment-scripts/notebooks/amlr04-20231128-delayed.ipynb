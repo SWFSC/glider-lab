{
 "cells": [
  {
   "cell_type": "markdown",
   "id": "df8682ab",
   "metadata": {},
   "source": [
    "This notebook is for exploring amlr04-20231128 data\n",
    "\n",
    "Specifically, we explore differences in the measured depth and CTD-calculated depth"
   ]
  },
  {
   "cell_type": "code",
   "execution_count": null,
   "id": "d2e96af9",
   "metadata": {},
   "outputs": [],
   "source": [
    "import os\n",
    "import numpy as np\n",
    "# import pandas as pd\n",
    "import xarray as xr\n",
    "\n",
    "from esdglider import gcp, glider, utils\n",
    "\n",
    "deployment_name = \"amlr04-20231128\"\n",
    "mode = \"delayed\"\n",
    "\n",
    "\n",
    "# Standard \n",
    "bucket_name = 'amlr-gliders-deployments-dev'\n",
    "deployments_path = f\"/home/sam_woodman_noaa_gov/{bucket_name}\"\n",
    "config_path = f\"/home/sam_woodman_noaa_gov/glider-lab/deployment-configs\"\n",
    "\n",
    "gcp.gcs_mount_bucket(\"amlr-gliders-deployments-dev\", deployments_path, ro=False)\n",
    "deployment_info = {\n",
    "    \"deploymentyaml\": os.path.join(config_path, f\"{deployment_name}.yml\"), \n",
    "    \"mode\": mode, \n",
    "}\n",
    "paths = glider.get_path_glider(deployment_info, deployments_path)"
   ]
  },
  {
   "cell_type": "code",
   "execution_count": null,
   "id": "ec307c5a",
   "metadata": {},
   "outputs": [],
   "source": [
    "ds_raw = xr.load_dataset(paths[\"tsrawpath\"])\n",
    "df_raw = ds_raw.to_pandas()\n",
    "# display(ds_raw)\n",
    "\n",
    "# ds_eng = xr.load_dataset(paths[\"tsengpath\"])\n",
    "# df_eng = ds_eng.to_pandas()\n",
    "# display(ds_eng)\n",
    "\n",
    "# ds_sci = xr.load_dataset(paths[\"tsscipath\"])\n",
    "# df_sci = ds_sci.to_pandas()\n",
    "# display(ds_sci)\n",
    "ds_raw"
   ]
  },
  {
   "cell_type": "markdown",
   "id": "e7a3fd27",
   "metadata": {},
   "source": [
    "## Depth"
   ]
  },
  {
   "cell_type": "code",
   "execution_count": null,
   "id": "23b2c1e9",
   "metadata": {},
   "outputs": [],
   "source": [
    "ds_depth = utils.check_depth(ds_raw)\n",
    "ds_depth"
   ]
  },
  {
   "cell_type": "code",
   "execution_count": null,
   "id": "0c69fcce",
   "metadata": {},
   "outputs": [],
   "source": [
    "df_depth = ds_depth.to_pandas()\n",
    "df_depth.sort_values(by=\"depth_diff_abs\", ascending=False)"
   ]
  },
  {
   "cell_type": "markdown",
   "id": "cc3991c3",
   "metadata": {},
   "source": [
    "We can see some pretty big depth differences, inlcuding many many depth differences of ~10m at 800+m of depth. These likely indicate an issue (or at least a difference) with the glider depth sensor or CTD pressure sensor, like observed in the amlr03-20231128 deployment. \n",
    "\n",
    "However, upon inspection, most of these big depth differences are not actually differences between m_depth and sci_water_pressure. Instead, they're because the glider science computer appeared to error during a dive and thus needed to reboot. After talking with Tony, this was likely usually because of the glidercam. \n",
    "\n",
    "When the computer reboots during a dive, it's first point has all of the science values from the last measured point - these values don't reset until the second point recorded by the glider. For instance (open the below dataset in Dataviewer):"
   ]
  },
  {
   "cell_type": "code",
   "execution_count": null,
   "id": "50580838",
   "metadata": {},
   "outputs": [],
   "source": [
    "ds = utils.data_var_reorder(ds_raw, [\"depth\", \"depth_ctd\"])\n",
    "dt = \"2023-12-25\"\n",
    "ds_sub = ds.sel(time=slice(\"2023-12-25 20:05\", \"2023-12-25 20:08:20\"))\n",
    "ds_sub"
   ]
  },
  {
   "cell_type": "markdown",
   "id": "d1e69539",
   "metadata": {},
   "source": [
    "Thus, in the processing script we decided to remove all of these instances . The following bounds were determined after lots of investigation. They may not catch instance where this happened and the gldier traveled less than 6 meters. However, using a depth difference of less than 6m led to false positives, and we are confident this captures the major offenders."
   ]
  },
  {
   "cell_type": "code",
   "execution_count": null,
   "id": "8256435d",
   "metadata": {},
   "outputs": [],
   "source": [
    "df_curr = df_depth[(df_depth.depth_diff > 6) & (df_depth.depth_ctd < 300)]\n",
    "df_curr"
   ]
  },
  {
   "cell_type": "markdown",
   "id": "4f1a725b",
   "metadata": {},
   "source": [
    "In the next cell we print the offending time stamps in a way that makes it easy to copy into the amlr04-20241128-delayed processing script"
   ]
  },
  {
   "cell_type": "code",
   "execution_count": null,
   "id": "2b330e1d",
   "metadata": {},
   "outputs": [],
   "source": [
    "df_curr.index.values"
   ]
  }
 ],
 "metadata": {
  "kernelspec": {
   "display_name": "esdglider",
   "language": "python",
   "name": "python3"
  },
  "language_info": {
   "codemirror_mode": {
    "name": "ipython",
    "version": 3
   },
   "file_extension": ".py",
   "mimetype": "text/x-python",
   "name": "python",
   "nbconvert_exporter": "python",
   "pygments_lexer": "ipython3",
   "version": "3.12.11"
  }
 },
 "nbformat": 4,
 "nbformat_minor": 5
}
